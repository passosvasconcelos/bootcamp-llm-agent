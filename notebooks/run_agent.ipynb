{
 "cells": [
  {
   "cell_type": "code",
   "execution_count": 1,
   "metadata": {},
   "outputs": [
    {
     "data": {
      "text/plain": [
       "True"
      ]
     },
     "execution_count": 1,
     "metadata": {},
     "output_type": "execute_result"
    }
   ],
   "source": [
    "import os\n",
    "import sys\n",
    "\n",
    "from dotenv import load_dotenv\n",
    "\n",
    "pkg_path = os.path.abspath(\"../\")\n",
    "if pkg_path not in sys.path:\n",
    "    sys.path.append(pkg_path)\n",
    "\n",
    "load_dotenv()"
   ]
  },
  {
   "cell_type": "markdown",
   "metadata": {},
   "source": [
    "## Criação do agente\n",
    "\n",
    "\n",
    "Criação do agente especialista em filmes como checkpoints salvos na memória de trabalho (`MemorySaver`).\n",
    "\n",
    "A orquestração das ações se baseia no modelo `gpt-4o` da OpenAI."
   ]
  },
  {
   "cell_type": "code",
   "execution_count": 2,
   "metadata": {},
   "outputs": [
    {
     "name": "stdout",
     "output_type": "stream",
     "text": [
      "bolt://localhost:7687\n"
     ]
    }
   ],
   "source": [
    "from langchain_openai import ChatOpenAI\n",
    "from langgraph.checkpoint.memory import MemorySaver\n",
    "from src.agent import ReactAgent\n",
    "\n",
    "llm_agent = ChatOpenAI(model=\"gpt-4o\", temperature=0)\n",
    "agent = ReactAgent(llm=llm_agent, memory=MemorySaver())"
   ]
  },
  {
   "cell_type": "markdown",
   "metadata": {},
   "source": [
    "## Protótipo de interface - Gradio\n",
    "\n",
    "[Gradio](https://www.gradio.app) é um pacote Python de código aberto que permite a criação de aplicativos web para modelos de machine learning, API ou função Python. Além disso, é pssível compartilhar a aplicação criada por meio de um link público."
   ]
  },
  {
   "cell_type": "code",
   "execution_count": 3,
   "metadata": {},
   "outputs": [],
   "source": [
    "!pip install gradio -q"
   ]
  },
  {
   "cell_type": "code",
   "execution_count": 4,
   "metadata": {},
   "outputs": [
    {
     "name": "stderr",
     "output_type": "stream",
     "text": [
      "c:\\Users\\felip\\anaconda3\\envs\\llm-agent-py310\\lib\\site-packages\\tqdm\\auto.py:21: TqdmWarning: IProgress not found. Please update jupyter and ipywidgets. See https://ipywidgets.readthedocs.io/en/stable/user_install.html\n",
      "  from .autonotebook import tqdm as notebook_tqdm\n",
      "c:\\Users\\felip\\anaconda3\\envs\\llm-agent-py310\\lib\\site-packages\\gradio\\components\\chatbot.py:223: UserWarning: You have not specified a value for the `type` parameter. Defaulting to the 'tuples' format for chatbot messages, but this is deprecated and will be removed in a future version of Gradio. Please set type='messages' instead, which uses openai-style 'role' and 'content' keys.\n",
      "  warnings.warn(\n"
     ]
    },
    {
     "name": "stdout",
     "output_type": "stream",
     "text": [
      "* Running on local URL:  http://127.0.0.1:7860\n",
      "\n",
      "To create a public link, set `share=True` in `launch()`.\n"
     ]
    },
    {
     "data": {
      "text/html": [
       "<div><iframe src=\"http://127.0.0.1:7860/\" width=\"100%\" height=\"500\" allow=\"autoplay; camera; microphone; clipboard-read; clipboard-write;\" frameborder=\"0\" allowfullscreen></iframe></div>"
      ],
      "text/plain": [
       "<IPython.core.display.HTML object>"
      ]
     },
     "metadata": {},
     "output_type": "display_data"
    },
    {
     "name": "stdout",
     "output_type": "stream",
     "text": [
      "Keyboard interruption in main thread... closing server.\n"
     ]
    }
   ],
   "source": [
    "# Front end web app for the assistant\n",
    "import gradio as gr\n",
    "\n",
    "with gr.Blocks() as demo:\n",
    "    chatbot = gr.Chatbot()\n",
    "    msg = gr.Textbox()\n",
    "    clear = gr.Button(\"Clear\")\n",
    "    chat_history = []\n",
    "    \n",
    "    def user(user_message, history):\n",
    "        answer = agent.answer_question(question=user_message,  thread_id=\"1\")\n",
    "        history.append((user_message, answer[\"response\"]))\n",
    "       \n",
    "        return gr.update(value=\"\"), history\n",
    "\n",
    "    msg.submit(user, [msg, chatbot], [msg, chatbot], queue=False)\n",
    "    clear.click(lambda: None, None, chatbot, queue=False)\n",
    "\n",
    "if __name__ == \"__main__\":\n",
    "    demo.launch(debug=True)"
   ]
  },
  {
   "cell_type": "markdown",
   "metadata": {},
   "source": [
    "## Requsição assíncrona à API em FastAPI"
   ]
  },
  {
   "cell_type": "code",
   "execution_count": 2,
   "metadata": {},
   "outputs": [],
   "source": [
    "import httpx\n",
    "\n",
    "async def make_request(query: str, session_id: str):\n",
    "    url = 'http://localhost:8000/answer'\n",
    "    params = {\n",
    "        'query': query,\n",
    "        'session_id': session_id\n",
    "    }\n",
    "    headers = {\n",
    "        'accept': 'application/json',\n",
    "        'x-api-key': os.getenv('ASSISTANT_API_KEY')\n",
    "    }\n",
    "    \n",
    "    async with httpx.AsyncClient() as client:\n",
    "        response = await client.get(url, params=params, headers=headers)\n",
    "        return response.json()\n"
   ]
  },
  {
   "cell_type": "code",
   "execution_count": 7,
   "metadata": {},
   "outputs": [
    {
     "name": "stdout",
     "output_type": "stream",
     "text": [
      "{'query': 'Atores que trabalharam com Arndold Schazenerger', 'response': 'Arnold Schwarzenegger trabalhou com diversos atores ao longo de sua carreira. Alguns dos atores que atuaram ao lado dele incluem:\\n\\n- Chopper Bernet\\n- Earl Boen\\n- Mark Famiglietti\\n- Kristanna Loken\\n- David Andrews\\n- Claire Danes\\n- Nick Stahl\\n- Xander Berkeley\\n- Jenette Goldstein\\n- Danny Cooksey\\n\\nSe precisar de informações sobre algum filme específico ou outros detalhes, estou à disposição!', 'reasoning': [{'action': 'ai', 'observation': '================================== Ai Message ==================================\\nTool Calls:\\n  get_info_about_movies (call_yznpOlPmbSkmHOHLxyJ4OeDr)\\n Call ID: call_yznpOlPmbSkmHOHLxyJ4OeDr\\n  Args:\\n    query: atores que trabalharam com Arnold Schwarzenegger'}, {'action': 'tool', 'observation': '================================= Tool Message =================================\\nName: get_info_about_movies\\n\\n{\"query\": \"atores que trabalharam com Arnold Schwarzenegger\", \"result\": [{\"coActor.name\": \"Chopper Bernet\"}, {\"coActor.name\": \"Earl Boen\"}, {\"coActor.name\": \"Mark Famiglietti\"}, {\"coActor.name\": \"Kristanna Loken\"}, {\"coActor.name\": \"David Andrews\"}, {\"coActor.name\": \"Claire Danes\"}, {\"coActor.name\": \"Nick Stahl\"}, {\"coActor.name\": \"Xander Berkeley\"}, {\"coActor.name\": \"Jenette Goldstein\"}, {\"coActor.name\": \"Danny Cooksey\"}]}'}, {'action': 'ai', 'observation': '================================== Ai Message ==================================\\n\\nArnold Schwarzenegger trabalhou com diversos atores ao longo de sua carreira. Alguns dos atores que atuaram ao lado dele incluem:\\n\\n- Chopper Bernet\\n- Earl Boen\\n- Mark Famiglietti\\n- Kristanna Loken\\n- David Andrews\\n- Claire Danes\\n- Nick Stahl\\n- Xander Berkeley\\n- Jenette Goldstein\\n- Danny Cooksey\\n\\nSe precisar de informações sobre algum filme específico ou outros detalhes, estou à disposição!'}]}\n"
     ]
    }
   ],
   "source": [
    "answer = await make_request(query=\"Atores que trabalharam com Arndold Schazenerger\", session_id=\"1\")\n",
    "print(answer)"
   ]
  }
 ],
 "metadata": {
  "kernelspec": {
   "display_name": "llm-agent-py310",
   "language": "python",
   "name": "python3"
  },
  "language_info": {
   "codemirror_mode": {
    "name": "ipython",
    "version": 3
   },
   "file_extension": ".py",
   "mimetype": "text/x-python",
   "name": "python",
   "nbconvert_exporter": "python",
   "pygments_lexer": "ipython3",
   "version": "3.10.0"
  }
 },
 "nbformat": 4,
 "nbformat_minor": 2
}
